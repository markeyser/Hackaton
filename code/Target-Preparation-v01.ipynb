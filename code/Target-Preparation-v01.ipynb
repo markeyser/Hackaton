{
 "cells": [
  {
   "cell_type": "markdown",
   "metadata": {},
   "source": [
    "Target data:"
   ]
  },
  {
   "cell_type": "code",
   "execution_count": 99,
   "metadata": {},
   "outputs": [],
   "source": [
    "import pandas\n",
    "target_df = pandas.read_csv('../data/model_data_2.csv')"
   ]
  },
  {
   "cell_type": "code",
   "execution_count": 100,
   "metadata": {},
   "outputs": [
    {
     "data": {
      "text/html": [
       "<div>\n",
       "<style scoped>\n",
       "    .dataframe tbody tr th:only-of-type {\n",
       "        vertical-align: middle;\n",
       "    }\n",
       "\n",
       "    .dataframe tbody tr th {\n",
       "        vertical-align: top;\n",
       "    }\n",
       "\n",
       "    .dataframe thead th {\n",
       "        text-align: right;\n",
       "    }\n",
       "</style>\n",
       "<table border=\"1\" class=\"dataframe\">\n",
       "  <thead>\n",
       "    <tr style=\"text-align: right;\">\n",
       "      <th></th>\n",
       "      <th>OWNER_CL_ID</th>\n",
       "      <th>ZIP_CD</th>\n",
       "      <th>DESIRED_CL_CCPC</th>\n",
       "      <th>DESIRED_CL_CCPCEC</th>\n",
       "      <th>sample</th>\n",
       "      <th>FILE_NAME</th>\n",
       "    </tr>\n",
       "  </thead>\n",
       "  <tbody>\n",
       "    <tr>\n",
       "      <th>0</th>\n",
       "      <td>10004700</td>\n",
       "      <td>89011</td>\n",
       "      <td>0</td>\n",
       "      <td>0</td>\n",
       "      <td>holdout</td>\n",
       "      <td>file_89011.png</td>\n",
       "    </tr>\n",
       "    <tr>\n",
       "      <th>1</th>\n",
       "      <td>10005cd7</td>\n",
       "      <td>92307</td>\n",
       "      <td>0</td>\n",
       "      <td>0</td>\n",
       "      <td>training</td>\n",
       "      <td>file_92307.png</td>\n",
       "    </tr>\n",
       "    <tr>\n",
       "      <th>2</th>\n",
       "      <td>1000a8f6</td>\n",
       "      <td>78550</td>\n",
       "      <td>0</td>\n",
       "      <td>0</td>\n",
       "      <td>training</td>\n",
       "      <td>file_78550.png</td>\n",
       "    </tr>\n",
       "    <tr>\n",
       "      <th>3</th>\n",
       "      <td>1000b62a</td>\n",
       "      <td>91789</td>\n",
       "      <td>1</td>\n",
       "      <td>1</td>\n",
       "      <td>training</td>\n",
       "      <td>file_91789.png</td>\n",
       "    </tr>\n",
       "    <tr>\n",
       "      <th>4</th>\n",
       "      <td>1000cbcd</td>\n",
       "      <td>78635</td>\n",
       "      <td>0</td>\n",
       "      <td>1</td>\n",
       "      <td>training</td>\n",
       "      <td>file_78635.png</td>\n",
       "    </tr>\n",
       "  </tbody>\n",
       "</table>\n",
       "</div>"
      ],
      "text/plain": [
       "  OWNER_CL_ID  ZIP_CD  DESIRED_CL_CCPC  DESIRED_CL_CCPCEC    sample  \\\n",
       "0    10004700   89011                0                  0   holdout   \n",
       "1    10005cd7   92307                0                  0  training   \n",
       "2    1000a8f6   78550                0                  0  training   \n",
       "3    1000b62a   91789                1                  1  training   \n",
       "4    1000cbcd   78635                0                  1  training   \n",
       "\n",
       "        FILE_NAME  \n",
       "0  file_89011.png  \n",
       "1  file_92307.png  \n",
       "2  file_78550.png  \n",
       "3  file_91789.png  \n",
       "4  file_78635.png  "
      ]
     },
     "execution_count": 100,
     "metadata": {},
     "output_type": "execute_result"
    }
   ],
   "source": [
    "target_df.head()"
   ]
  },
  {
   "cell_type": "code",
   "execution_count": 101,
   "metadata": {},
   "outputs": [
    {
     "data": {
      "text/plain": [
       "250374"
      ]
     },
     "execution_count": 101,
     "metadata": {},
     "output_type": "execute_result"
    }
   ],
   "source": [
    "len(target_df)"
   ]
  },
  {
   "cell_type": "markdown",
   "metadata": {},
   "source": [
    "250374 different clients (unique clients). There a multiple policies (300K). \n",
    "\n",
    "Let's use the above dataset to split the pictures across the folder structure:"
   ]
  },
  {
   "cell_type": "code",
   "execution_count": 102,
   "metadata": {},
   "outputs": [],
   "source": [
    "training_one_df = target_df[(target_df['DESIRED_CL_CCPCEC']  == 1) & (target_df['sample'] == 'training')]"
   ]
  },
  {
   "cell_type": "code",
   "execution_count": 103,
   "metadata": {},
   "outputs": [
    {
     "data": {
      "text/html": [
       "<div>\n",
       "<style scoped>\n",
       "    .dataframe tbody tr th:only-of-type {\n",
       "        vertical-align: middle;\n",
       "    }\n",
       "\n",
       "    .dataframe tbody tr th {\n",
       "        vertical-align: top;\n",
       "    }\n",
       "\n",
       "    .dataframe thead th {\n",
       "        text-align: right;\n",
       "    }\n",
       "</style>\n",
       "<table border=\"1\" class=\"dataframe\">\n",
       "  <thead>\n",
       "    <tr style=\"text-align: right;\">\n",
       "      <th></th>\n",
       "      <th>OWNER_CL_ID</th>\n",
       "      <th>ZIP_CD</th>\n",
       "      <th>DESIRED_CL_CCPC</th>\n",
       "      <th>DESIRED_CL_CCPCEC</th>\n",
       "      <th>sample</th>\n",
       "      <th>FILE_NAME</th>\n",
       "    </tr>\n",
       "  </thead>\n",
       "  <tbody>\n",
       "    <tr>\n",
       "      <th>3</th>\n",
       "      <td>1000b62a</td>\n",
       "      <td>91789</td>\n",
       "      <td>1</td>\n",
       "      <td>1</td>\n",
       "      <td>training</td>\n",
       "      <td>file_91789.png</td>\n",
       "    </tr>\n",
       "    <tr>\n",
       "      <th>4</th>\n",
       "      <td>1000cbcd</td>\n",
       "      <td>78635</td>\n",
       "      <td>0</td>\n",
       "      <td>1</td>\n",
       "      <td>training</td>\n",
       "      <td>file_78635.png</td>\n",
       "    </tr>\n",
       "    <tr>\n",
       "      <th>9</th>\n",
       "      <td>1002a993</td>\n",
       "      <td>1886</td>\n",
       "      <td>0</td>\n",
       "      <td>1</td>\n",
       "      <td>training</td>\n",
       "      <td>file_1886.png</td>\n",
       "    </tr>\n",
       "    <tr>\n",
       "      <th>13</th>\n",
       "      <td>10042a24</td>\n",
       "      <td>30643</td>\n",
       "      <td>0</td>\n",
       "      <td>1</td>\n",
       "      <td>training</td>\n",
       "      <td>file_30643.png</td>\n",
       "    </tr>\n",
       "    <tr>\n",
       "      <th>30</th>\n",
       "      <td>10086ed</td>\n",
       "      <td>95121</td>\n",
       "      <td>0</td>\n",
       "      <td>1</td>\n",
       "      <td>training</td>\n",
       "      <td>file_95121.png</td>\n",
       "    </tr>\n",
       "  </tbody>\n",
       "</table>\n",
       "</div>"
      ],
      "text/plain": [
       "   OWNER_CL_ID  ZIP_CD  DESIRED_CL_CCPC  DESIRED_CL_CCPCEC    sample  \\\n",
       "3     1000b62a   91789                1                  1  training   \n",
       "4     1000cbcd   78635                0                  1  training   \n",
       "9     1002a993    1886                0                  1  training   \n",
       "13    10042a24   30643                0                  1  training   \n",
       "30     10086ed   95121                0                  1  training   \n",
       "\n",
       "         FILE_NAME  \n",
       "3   file_91789.png  \n",
       "4   file_78635.png  \n",
       "9    file_1886.png  \n",
       "13  file_30643.png  \n",
       "30  file_95121.png  "
      ]
     },
     "execution_count": 103,
     "metadata": {},
     "output_type": "execute_result"
    }
   ],
   "source": [
    "training_one_df.head()"
   ]
  },
  {
   "cell_type": "code",
   "execution_count": 104,
   "metadata": {},
   "outputs": [
    {
     "data": {
      "text/plain": [
       "35433"
      ]
     },
     "execution_count": 104,
     "metadata": {},
     "output_type": "execute_result"
    }
   ],
   "source": [
    "len(training_one_df)"
   ]
  },
  {
   "cell_type": "code",
   "execution_count": 105,
   "metadata": {},
   "outputs": [],
   "source": [
    "training_zero_df = target_df[(target_df['DESIRED_CL_CCPC']  == 0) & (target_df['sample'] == 'training')]"
   ]
  },
  {
   "cell_type": "code",
   "execution_count": 106,
   "metadata": {},
   "outputs": [
    {
     "data": {
      "text/html": [
       "<div>\n",
       "<style scoped>\n",
       "    .dataframe tbody tr th:only-of-type {\n",
       "        vertical-align: middle;\n",
       "    }\n",
       "\n",
       "    .dataframe tbody tr th {\n",
       "        vertical-align: top;\n",
       "    }\n",
       "\n",
       "    .dataframe thead th {\n",
       "        text-align: right;\n",
       "    }\n",
       "</style>\n",
       "<table border=\"1\" class=\"dataframe\">\n",
       "  <thead>\n",
       "    <tr style=\"text-align: right;\">\n",
       "      <th></th>\n",
       "      <th>OWNER_CL_ID</th>\n",
       "      <th>ZIP_CD</th>\n",
       "      <th>DESIRED_CL_CCPC</th>\n",
       "      <th>DESIRED_CL_CCPCEC</th>\n",
       "      <th>sample</th>\n",
       "      <th>FILE_NAME</th>\n",
       "    </tr>\n",
       "  </thead>\n",
       "  <tbody>\n",
       "    <tr>\n",
       "      <th>1</th>\n",
       "      <td>10005cd7</td>\n",
       "      <td>92307</td>\n",
       "      <td>0</td>\n",
       "      <td>0</td>\n",
       "      <td>training</td>\n",
       "      <td>file_92307.png</td>\n",
       "    </tr>\n",
       "    <tr>\n",
       "      <th>2</th>\n",
       "      <td>1000a8f6</td>\n",
       "      <td>78550</td>\n",
       "      <td>0</td>\n",
       "      <td>0</td>\n",
       "      <td>training</td>\n",
       "      <td>file_78550.png</td>\n",
       "    </tr>\n",
       "    <tr>\n",
       "      <th>4</th>\n",
       "      <td>1000cbcd</td>\n",
       "      <td>78635</td>\n",
       "      <td>0</td>\n",
       "      <td>1</td>\n",
       "      <td>training</td>\n",
       "      <td>file_78635.png</td>\n",
       "    </tr>\n",
       "    <tr>\n",
       "      <th>5</th>\n",
       "      <td>10015f09</td>\n",
       "      <td>75010</td>\n",
       "      <td>0</td>\n",
       "      <td>0</td>\n",
       "      <td>training</td>\n",
       "      <td>file_75010.png</td>\n",
       "    </tr>\n",
       "    <tr>\n",
       "      <th>9</th>\n",
       "      <td>1002a993</td>\n",
       "      <td>1886</td>\n",
       "      <td>0</td>\n",
       "      <td>1</td>\n",
       "      <td>training</td>\n",
       "      <td>file_1886.png</td>\n",
       "    </tr>\n",
       "  </tbody>\n",
       "</table>\n",
       "</div>"
      ],
      "text/plain": [
       "  OWNER_CL_ID  ZIP_CD  DESIRED_CL_CCPC  DESIRED_CL_CCPCEC    sample  \\\n",
       "1    10005cd7   92307                0                  0  training   \n",
       "2    1000a8f6   78550                0                  0  training   \n",
       "4    1000cbcd   78635                0                  1  training   \n",
       "5    10015f09   75010                0                  0  training   \n",
       "9    1002a993    1886                0                  1  training   \n",
       "\n",
       "        FILE_NAME  \n",
       "1  file_92307.png  \n",
       "2  file_78550.png  \n",
       "4  file_78635.png  \n",
       "5  file_75010.png  \n",
       "9   file_1886.png  "
      ]
     },
     "execution_count": 106,
     "metadata": {},
     "output_type": "execute_result"
    }
   ],
   "source": [
    "training_zero_df.head()"
   ]
  },
  {
   "cell_type": "code",
   "execution_count": 107,
   "metadata": {},
   "outputs": [
    {
     "data": {
      "text/plain": [
       "187952"
      ]
     },
     "execution_count": 107,
     "metadata": {},
     "output_type": "execute_result"
    }
   ],
   "source": [
    "len(training_zero_df)"
   ]
  },
  {
   "cell_type": "code",
   "execution_count": 108,
   "metadata": {},
   "outputs": [
    {
     "data": {
      "text/plain": [
       "200508"
      ]
     },
     "execution_count": 108,
     "metadata": {},
     "output_type": "execute_result"
    }
   ],
   "source": [
    "12556 + 187952"
   ]
  },
  {
   "cell_type": "code",
   "execution_count": 109,
   "metadata": {},
   "outputs": [],
   "source": [
    "validation_one_df = target_df[(target_df['DESIRED_CL_CCPC']  == 1) & (target_df['sample'] == 'holdout')]"
   ]
  },
  {
   "cell_type": "code",
   "execution_count": 110,
   "metadata": {},
   "outputs": [],
   "source": [
    "validation_zero_df = target_df[(target_df['DESIRED_CL_CCPC']  == 0) & (target_df['sample'] == 'holdout')]"
   ]
  },
  {
   "cell_type": "code",
   "execution_count": 111,
   "metadata": {},
   "outputs": [],
   "source": [
    "training_one_df = training_one_df['FILE_NAME']"
   ]
  },
  {
   "cell_type": "code",
   "execution_count": 112,
   "metadata": {},
   "outputs": [],
   "source": [
    "training_zero_df = training_zero_df['FILE_NAME']"
   ]
  },
  {
   "cell_type": "code",
   "execution_count": 113,
   "metadata": {},
   "outputs": [],
   "source": [
    "validation_one_df = validation_one_df['FILE_NAME']"
   ]
  },
  {
   "cell_type": "code",
   "execution_count": 114,
   "metadata": {},
   "outputs": [],
   "source": [
    "validation_zero_df = validation_zero_df['FILE_NAME']"
   ]
  },
  {
   "cell_type": "code",
   "execution_count": 115,
   "metadata": {},
   "outputs": [],
   "source": [
    "training_one = training_one_df.tolist()"
   ]
  },
  {
   "cell_type": "code",
   "execution_count": 116,
   "metadata": {},
   "outputs": [],
   "source": [
    "training_zero = training_zero_df.tolist()"
   ]
  },
  {
   "cell_type": "code",
   "execution_count": 117,
   "metadata": {},
   "outputs": [],
   "source": [
    "validation_one = validation_one_df.tolist()"
   ]
  },
  {
   "cell_type": "code",
   "execution_count": 118,
   "metadata": {},
   "outputs": [],
   "source": [
    "validation_zero = validation_zero_df.tolist()"
   ]
  },
  {
   "cell_type": "code",
   "execution_count": 119,
   "metadata": {},
   "outputs": [
    {
     "data": {
      "text/plain": [
       "True"
      ]
     },
     "execution_count": 119,
     "metadata": {},
     "output_type": "execute_result"
    }
   ],
   "source": [
    "'file_1886.png' in training_one"
   ]
  },
  {
   "cell_type": "code",
   "execution_count": 121,
   "metadata": {},
   "outputs": [],
   "source": [
    "import os\n",
    "from os import path\n",
    "import shutil\n",
    "\n",
    "src = \"../imgs/\"\n",
    "dst = \"../data/train/positive/\"\n",
    "\n",
    "\n",
    "files = [i for i in training_one]\n",
    "for f in files:\n",
    "    try:\n",
    "        shutil.copy(src + str(f),dst)\n",
    "    except:\n",
    "        pass"
   ]
  },
  {
   "cell_type": "code",
   "execution_count": 123,
   "metadata": {},
   "outputs": [],
   "source": [
    "import os\n",
    "from os import path\n",
    "import shutil\n",
    "\n",
    "src = \"../imgs/\"\n",
    "dst = \"../data/train/negative/\"\n",
    "\n",
    "\n",
    "files = [i for i in training_zero]\n",
    "for f in files:\n",
    "    try:\n",
    "        shutil.copy(src + str(f),dst)\n",
    "    except:\n",
    "        pass"
   ]
  },
  {
   "cell_type": "code",
   "execution_count": 124,
   "metadata": {},
   "outputs": [],
   "source": [
    "import os\n",
    "from os import path\n",
    "import shutil\n",
    "\n",
    "src = \"../imgs/\"\n",
    "dst = \"../data/validation/positive/\"\n",
    "\n",
    "\n",
    "files = [i for i in validation_one]\n",
    "for f in files:\n",
    "    try:\n",
    "        shutil.copy(src + str(f),dst)\n",
    "    except:\n",
    "        pass"
   ]
  },
  {
   "cell_type": "code",
   "execution_count": 125,
   "metadata": {},
   "outputs": [],
   "source": [
    "import os\n",
    "from os import path\n",
    "import shutil\n",
    "\n",
    "src = \"../imgs/\"\n",
    "dst = \"../data/validation/negative/\"\n",
    "\n",
    "\n",
    "files = [i for i in validation_zero]\n",
    "for f in files:\n",
    "    try:\n",
    "        shutil.copy(src + str(f),dst)\n",
    "    except:\n",
    "        pass"
   ]
  },
  {
   "cell_type": "code",
   "execution_count": 126,
   "metadata": {},
   "outputs": [
    {
     "name": "stdout",
     "output_type": "stream",
     "text": [
      "8735\n",
      "35433\n"
     ]
    }
   ],
   "source": [
    "import os\n",
    "\n",
    "path, dirs, files = next(os.walk(\"../data/train/positive/\"))\n",
    "file_count = len(files)\n",
    "print(file_count)\n",
    "print(len(training_one_df))"
   ]
  },
  {
   "cell_type": "code",
   "execution_count": 127,
   "metadata": {},
   "outputs": [
    {
     "name": "stdout",
     "output_type": "stream",
     "text": [
      "16139\n",
      "187952\n"
     ]
    }
   ],
   "source": [
    "path, dirs, files = next(os.walk(\"../data/train/negative/\"))\n",
    "file_count = len(files)\n",
    "print(file_count)\n",
    "print(len(training_zero_df))"
   ]
  },
  {
   "cell_type": "code",
   "execution_count": 128,
   "metadata": {},
   "outputs": [
    {
     "name": "stdout",
     "output_type": "stream",
     "text": [
      "2065\n",
      "3123\n"
     ]
    }
   ],
   "source": [
    "path, dirs, files = next(os.walk(\"../data/validation/positive/\"))\n",
    "file_count = len(files)\n",
    "print(file_count)\n",
    "print(len(validation_one_df))"
   ]
  },
  {
   "cell_type": "code",
   "execution_count": 129,
   "metadata": {},
   "outputs": [
    {
     "name": "stdout",
     "output_type": "stream",
     "text": [
      "10482\n",
      "46743\n"
     ]
    }
   ],
   "source": [
    "path, dirs, files = next(os.walk(\"../data/validation/negative/\"))\n",
    "file_count = len(files)\n",
    "print(file_count)\n",
    "print(len(validation_zero_df))"
   ]
  },
  {
   "cell_type": "code",
   "execution_count": 132,
   "metadata": {},
   "outputs": [
    {
     "data": {
      "text/plain": [
       "37421"
      ]
     },
     "execution_count": 132,
     "metadata": {},
     "output_type": "execute_result"
    }
   ],
   "source": [
    "8735 + 16139 + 2065 + 10482"
   ]
  },
  {
   "cell_type": "code",
   "execution_count": 131,
   "metadata": {},
   "outputs": [
    {
     "data": {
      "text/plain": [
       "250374"
      ]
     },
     "execution_count": 131,
     "metadata": {},
     "output_type": "execute_result"
    }
   ],
   "source": [
    "12556 + 187952 + 3123 + 46743"
   ]
  },
  {
   "cell_type": "code",
   "execution_count": 98,
   "metadata": {},
   "outputs": [
    {
     "name": "stdout",
     "output_type": "stream",
     "text": [
      "23010\n"
     ]
    }
   ],
   "source": [
    "import os\n",
    "\n",
    "path, dirs, files = next(os.walk(\"../imgs/\"))\n",
    "file_count = len(files)\n",
    "print(file_count)"
   ]
  },
  {
   "cell_type": "code",
   "execution_count": null,
   "metadata": {},
   "outputs": [],
   "source": []
  }
 ],
 "metadata": {
  "kernelspec": {
   "display_name": "Python 3",
   "language": "python",
   "name": "python3"
  },
  "language_info": {
   "codemirror_mode": {
    "name": "ipython",
    "version": 3
   },
   "file_extension": ".py",
   "mimetype": "text/x-python",
   "name": "python",
   "nbconvert_exporter": "python",
   "pygments_lexer": "ipython3",
   "version": "3.6.6"
  }
 },
 "nbformat": 4,
 "nbformat_minor": 2
}
