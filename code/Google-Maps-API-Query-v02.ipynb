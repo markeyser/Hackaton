{
 "cells": [
  {
   "cell_type": "markdown",
   "metadata": {},
   "source": [
    "23'' 100 pictures, 25,0000 pictures takes 1 houre and 2.6 GB of space. 1 - 5001 2:52 am to 3:35 am "
   ]
  },
  {
   "cell_type": "code",
   "execution_count": 8,
   "metadata": {},
   "outputs": [],
   "source": [
    "import csv\n",
    "import requests\n",
    "from urllib.parse import urlencode\n",
    "import webbrowser"
   ]
  },
  {
   "cell_type": "code",
   "execution_count": 21,
   "metadata": {},
   "outputs": [],
   "source": [
    "coordinate_pairs = []\n",
    "zip_code = []\n",
    "with open('../data/ZIP_SINGLE_LOCATION_v03-5001-END.csv') as csvfile:\n",
    "    reader = csv.DictReader(csvfile)\n",
    "    for row in reader:\n",
    "        coordinate_pairs.append(row['X'] + ',' + row['Y'])\n",
    "        zip_code.append(row['ZIP_CD'])"
   ]
  },
  {
   "cell_type": "code",
   "execution_count": 22,
   "metadata": {},
   "outputs": [],
   "source": [
    "GMAPS_URL = \"https://maps.googleapis.com/maps/api/staticmap?\"\n",
    "GMAPS_URL_END = \"&zoom=18&size=400x400&maptype=satellite&key=XXXXXXXXXXXXXXXXX\""
   ]
  },
  {
   "cell_type": "code",
   "execution_count": null,
   "metadata": {},
   "outputs": [],
   "source": [
    "import urllib.request\n",
    "\n",
    "for coordinate, code in zip(coordinate_pairs, zip_code):\n",
    "    try:\n",
    "        print(coordinate, code)\n",
    "        url = GMAPS_URL + urlencode({'center': coordinate}) + GMAPS_URL_END\n",
    "        urllib.request.urlretrieve(url, \"../imgs/file_\" + str(code) + \".png\")\n",
    "    except:\n",
    "        pass"
   ]
  },
  {
   "cell_type": "code",
   "execution_count": null,
   "metadata": {},
   "outputs": [],
   "source": []
  }
 ],
 "metadata": {
  "kernelspec": {
   "display_name": "Python 3",
   "language": "python",
   "name": "python3"
  },
  "language_info": {
   "codemirror_mode": {
    "name": "ipython",
    "version": 3
   },
   "file_extension": ".py",
   "mimetype": "text/x-python",
   "name": "python",
   "nbconvert_exporter": "python",
   "pygments_lexer": "ipython3",
   "version": "3.6.6"
  }
 },
 "nbformat": 4,
 "nbformat_minor": 2
}
